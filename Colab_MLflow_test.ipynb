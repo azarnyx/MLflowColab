{
 "cells": [
  {
   "cell_type": "code",
   "execution_count": 0,
   "metadata": {
    "colab": {},
    "colab_type": "code",
    "id": "r-XNfLVrl0GC"
   },
   "outputs": [],
   "source": [
    "import os\n",
    "import json\n",
    "import pickle\n",
    "\n",
    "# this dictionary is a copy of a JSON file from step (1),\n",
    "# insert your own credentials of your service account\n",
    "dic = {'type': '',\n",
    "'project_id': '',\n",
    "'private_key_id': '',\n",
    "'private_key': '',\n",
    "'client_email': '',\n",
    "'client_id': '',\n",
    "'auth_uri': '',\n",
    "'token_uri': '',\n",
    "'auth_provider_x509_cert_url': '',\n",
    "'client_x509_cert_url': ''}\n",
    "\n",
    "with open('gs_secrets.json', 'w') as json_file:\n",
    "    json.dump(dic, json_file)\n",
    "os.environ['GOOGLE_APPLICATION_CREDENTIALS'] = 'gs_secrets.json'\n",
    "\n",
    "sql_string = \"postgresql://<username>:<password>@<sql ip>/<name of table>\""
   ]
  },
  {
   "cell_type": "code",
   "execution_count": null,
   "metadata": {},
   "outputs": [],
   "source": [
    "! pip install mlflow"
   ]
  },
  {
   "cell_type": "code",
   "execution_count": null,
   "metadata": {},
   "outputs": [],
   "source": [
    "import mlflow\n",
    "\n",
    "\n",
    "mlflow.set_tracking_uri(sql_string)\n",
    "expname = \"test MLflow\"\n",
    "mlflow.create_experiment(expname, artifact_location=\"gs://MLflowartifacts/\")\n",
    "\n",
    "with open(\"artifact.txt\", \"w\") as f:\n",
    "    f.write(\"Hello world!\")\n",
    "with mlflow.start_run():\n",
    "    for i in range(10):\n",
    "        mlflow.log_metric(key=\"Loss Function\", value=i**2, step=i)\n",
    "    mlflow.log_artifact(\"artifact.txt\")"
   ]
  }
 ],
 "metadata": {
  "colab": {
   "collapsed_sections": [],
   "name": "Colab_MLflow_test.ipynb",
   "provenance": [],
   "version": "0.3.2"
  },
  "kernelspec": {
   "display_name": "Python 3",
   "language": "python",
   "name": "python3"
  },
  "language_info": {
   "codemirror_mode": {
    "name": "ipython",
    "version": 3
   },
   "file_extension": ".py",
   "mimetype": "text/x-python",
   "name": "python",
   "nbconvert_exporter": "python",
   "pygments_lexer": "ipython3",
   "version": "3.7.3"
  }
 },
 "nbformat": 4,
 "nbformat_minor": 1
}
