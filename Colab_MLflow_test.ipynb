{
  "nbformat": 4,
  "nbformat_minor": 0,
  "metadata": {
    "colab": {
      "name": "Colab_MLflow_test.ipynb",
      "version": "0.3.2",
      "provenance": [],
      "collapsed_sections": []
    },
    "kernelspec": {
      "name": "python3",
      "display_name": "Python 3"
    }
  },
  "cells": [
    {
      "cell_type": "code",
      "metadata": {
        "id": "r-XNfLVrl0GC",
        "colab_type": "code",
        "colab": {}
      },
      "source": [
        "import os\n",
        "import json\n",
        "import pickle\n",
        "\n",
        "# this dictionary is a copy of a JSON file from section (2), \n",
        "# please insert your own credentials a non-secure implementation\n",
        "# which expose the credentials of service account.\n",
        "dic = {'type': '',\n",
        "'project_id': '',\n",
        "'private_key_id': '',\n",
        "'private_key': '',\n",
        "'client_email': '',\n",
        "'client_id': '',\n",
        "'auth_uri': '',\n",
        "'token_uri': '',\n",
        "'auth_provider_x509_cert_url': '',\n",
        "'client_x509_cert_url': ''}\n",
        "\n",
        "with open('gs_secrets.json', 'w') as json_file:\n",
        "json.dump(dic, json_file)\n",
        "os.environ['GOOGLE_APPLICATION_CREDENTIALS'] = 'gs_secrets.json'\n",
        "\n",
        "\n",
        "pip install mlflow google-cloud-storage\n",
        "mport mlflow\n",
        "with open(\"artifact.txt\", \"w\") as f:\n",
        "f.write(\"Hello world!\")\n",
        "\n",
        "\n",
        "sql_string = \"postgresql://<username>:<password>@<sql ip>/<name of table>\"\n",
        "\n",
        "mlflow.set_tracking_uri(sql_string)\n",
        "expname = \"test MLflow\"\n",
        "try:\n",
        "    mlflow.create_experiment(expname,    artifact_location=\"gs://MLflowartifacts/\")\n",
        "except:\n",
        "    mlflow.set_experiment(expname)\n",
        "with mlflow.start_run():\n",
        "    for i in range(10):\n",
        "        mlflow.log_metric(key=\"Loss Function\", value=i**2, step=i)\n",
        "    mlflow.log_artifact(\"artifact.txt\")"
      ],
      "execution_count": 0,
      "outputs": []
    }
  ]
}